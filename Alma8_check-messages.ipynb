{
 "cells": [
  {
   "cell_type": "code",
   "execution_count": null,
   "id": "bca182cb",
   "metadata": {},
   "outputs": [],
   "source": [
    "import paramiko\n",
    "import datetime\n",
    "\n",
    "host_name = \"192.168.3.11\"\n",
    "user_name = \"root\"\n",
    "user_pass = \"root\"\n",
    "cmd = 'cat /var/log/messages'\n",
    "\n",
    "mon_list = {\"Jan\":\"1\", \"Feb\":\"2\", \"Mar\":\"3\", \"Apr\":\"4\", \"May\":\"5\", \"Jun\":\"6\",\n",
    "             \"Jul\":\"7\", \"Aug\":\"8\", \"Sep\":\"9\", \"Oct\":\"10\", \"Nov\":\"11\", \"Dec\":\"12\"}\n",
    "this_year = datetime.date.today().year\n",
    "this_mon = datetime.date.today().month\n",
    "\n",
    "client = paramiko.SSHClient()\n",
    "client.set_missing_host_key_policy(paramiko.WarningPolicy())\n",
    "client.connect(host_name, username=user_name, password=user_pass)\n",
    "\n",
    "stdin, stdout, stderr = client.exec_command(cmd)\n",
    "\n",
    "alma8_log = []\n",
    "tmp = []\n",
    "for i, log in enumerate(stdout):\n",
    "    tmp.append(log.split())\n",
    "\n",
    "    temp2=[]\n",
    "    log_mon = tmp[i][0].replace(tmp[i][0], mon_list[tmp[i][0]])\n",
    "    if int(log_mon) <= this_mon:\n",
    "        temp2.append(str(this_year))\n",
    "    else:\n",
    "        temp2.append(str(this_year-1))\n",
    "    temp2.append(log_mon)\n",
    "    for j in range(1, 5):\n",
    "        temp2.append(tmp[i][j])\n",
    "    temp2.append(\" \".join(tmp[i][5:]))\n",
    "    alma8_log.append(temp2)\n",
    "\n",
    "client.close()\n",
    "\n",
    "#print(f'{len(calma8_log)}')\n",
    "for i in range(2):\n",
    "    print(f'{\" \".join(alma8_log[i])}')\n"
   ]
  },
  {
   "cell_type": "code",
   "execution_count": 3,
   "id": "44ad8e39",
   "metadata": {},
   "outputs": [
    {
     "name": "stdout",
     "output_type": "stream",
     "text": [
      "18697\n",
      "2022 5 8 03:39:04 alma8 httpd[19464]: Server configured, listening on: port 80\n",
      "2022 5 8 03:40:02 alma8 systemd[1]: Created slice User Slice of UID 0.\n"
     ]
    }
   ],
   "source": [
    "import paramiko\n",
    "import datetime\n",
    "\n",
    "host_name = \"192.168.3.11\"\n",
    "user_name = \"root\"\n",
    "user_pass = \"root\"\n",
    "cmd = 'cat /var/log/messages'\n",
    "\n",
    "mon_list = {\"Jan\":\"1\", \"Feb\":\"2\", \"Mar\":\"3\", \"Apr\":\"4\", \"May\":\"5\", \"Jun\":\"6\",\n",
    "             \"Jul\":\"7\", \"Aug\":\"8\", \"Sep\":\"9\", \"Oct\":\"10\", \"Nov\":\"11\", \"Dec\":\"12\"}\n",
    "this_year = datetime.date.today().year\n",
    "this_mon = datetime.date.today().month\n",
    "\n",
    "client = paramiko.SSHClient()\n",
    "client.set_missing_host_key_policy(paramiko.WarningPolicy())\n",
    "client.connect(host_name, username=user_name, password=user_pass)\n",
    "\n",
    "stdin, stdout, stderr = client.exec_command(cmd)\n",
    "\n",
    "alma8_log = []\n",
    "tmp = []\n",
    "for i, log in enumerate(stdout):\n",
    "    tmp.append(log.split())\n",
    "\n",
    "    temp2=[]\n",
    "    log_mon = tmp[i][0].replace(tmp[i][0], mon_list[tmp[i][0]])\n",
    "    if int(log_mon) <= this_mon:\n",
    "        temp2.append(str(this_year))\n",
    "    else:\n",
    "        temp2.append(str(this_year-1))\n",
    "    temp2.append(log_mon)\n",
    "    for j in range(1, 5):\n",
    "        temp2.append(tmp[i][j])\n",
    "    temp2.append(\" \".join(tmp[i][5:]))\n",
    "    alma8_log.append(temp2)\n",
    "\n",
    "client.close()\n",
    "\n",
    "#print(f'{len(alma8_log)}')\n",
    "print(len(alma8_log))\n",
    "for i in range(2):\n",
    "    print(f'{\" \".join(alma8_log[i])}')\n"
   ]
  },
  {
   "cell_type": "code",
   "execution_count": 2,
   "id": "f9ec38ec",
   "metadata": {},
   "outputs": [
    {
     "name": "stdout",
     "output_type": "stream",
     "text": [
      "2022\n",
      "5\n",
      "8\n",
      "03:40:02\n",
      "alma8\n",
      "systemd[1]:\n",
      "Created slice User Slice of UID 0.\n"
     ]
    }
   ],
   "source": [
    "import datetime\n",
    "\n",
    "this_year = datetime.date.today().year\n",
    "this_mon  = datetime.date.today().month\n",
    "\n",
    "for i in alma8_log[1]:\n",
    "    print(f'{i}')"
   ]
  },
  {
   "cell_type": "code",
   "execution_count": null,
   "id": "728ccc59",
   "metadata": {},
   "outputs": [],
   "source": []
  }
 ],
 "metadata": {
  "kernelspec": {
   "display_name": "Python 3 (ipykernel)",
   "language": "python",
   "name": "python3"
  },
  "language_info": {
   "codemirror_mode": {
    "name": "ipython",
    "version": 3
   },
   "file_extension": ".py",
   "mimetype": "text/x-python",
   "name": "python",
   "nbconvert_exporter": "python",
   "pygments_lexer": "ipython3",
   "version": "3.8.13"
  }
 },
 "nbformat": 4,
 "nbformat_minor": 5
}
